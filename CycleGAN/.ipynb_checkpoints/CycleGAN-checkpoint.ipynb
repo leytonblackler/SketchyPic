{
 "cells": [
  {
   "cell_type": "code",
   "execution_count": 1,
   "metadata": {},
   "outputs": [],
   "source": [
    "!pip install -q git+https://github.com/tensorflow/examples.git"
   ]
  },
  {
   "cell_type": "code",
   "execution_count": 3,
   "metadata": {},
   "outputs": [],
   "source": [
    "!pip install -q tensorflow-gpu==2.0.0-beta1\n",
    "import tensorflow as tf"
   ]
  },
  {
   "cell_type": "code",
   "execution_count": 5,
   "metadata": {},
   "outputs": [],
   "source": [
    "from __future__ import absolute_import, division, print_function, unicode_literals\n",
    "\n",
    "# import tensorflow_datasets as tfds\n",
    "from tensorflow_examples.models.pix2pix import pix2pix\n",
    "\n",
    "import os\n",
    "import time\n",
    "import matplotlib.pyplot as plt\n",
    "from IPython.display import clear_output\n",
    "\n",
    "# tfds.disable_progress_bar()\n",
    "AUTOTUNE = tf.data.experimental.AUTOTUNE"
   ]
  },
  {
   "cell_type": "code",
   "execution_count": 23,
   "metadata": {},
   "outputs": [
    {
     "name": "stdout",
     "output_type": "stream",
     "text": [
      "Photo training set has 95 images.\n",
      "Loaded training photos.\n",
      "Sketch training set has 518 images.\n",
      "Loaded training sketches.\n",
      "Photo testing set has 5 images.\n",
      "Loaded testing photos.\n",
      "Photo testing set has 5 images.\n",
      "Loaded testing sketches.\n"
     ]
    }
   ],
   "source": [
    "from PIL import Image \n",
    "import numpy\n",
    "from scipy.misc import toimage\n",
    "\n",
    "# LOAD TRAINING PHOTOS\n",
    "folder = 'train_photos/'\n",
    "file_names = [f for f in os.listdir(folder) if os.path.isfile(os.path.join(folder, f))]\n",
    "print(\"Loading {0} photo training images...\".format(len(file_names)))\n",
    "train_photos = []\n",
    "for file_name in file_names:\n",
    "    image = Image.open(folder + '/' + file_name)\n",
    "    train_photos.append(numpy.array(image))\n",
    "print(\"Loaded training photos.\")\n",
    "\n",
    "# LOAD TRAINING SKETCHES\n",
    "folder = 'train_sketches/'\n",
    "file_names = [f for f in os.listdir(folder) if os.path.isfile(os.path.join(folder, f))]\n",
    "print(\"Loading {0} sketch training images...\".format(len(file_names)))\n",
    "train_photos = []\n",
    "for file_name in file_names:\n",
    "    image = Image.open(folder + '/' + file_name)\n",
    "    train_photos.append(numpy.array(image))\n",
    "print(\"Loaded training sketches.\")\n",
    "\n",
    "# LOAD TEST PHOTOS\n",
    "folder = 'test_photos/'\n",
    "file_names = [f for f in os.listdir(folder) if os.path.isfile(os.path.join(folder, f))]\n",
    "print(\"Loading {0} photo testing images...\".format(len(file_names)))\n",
    "train_photos = []\n",
    "for file_name in file_names:\n",
    "    image = Image.open(folder + '/' + file_name)\n",
    "    train_photos.append(numpy.array(image))\n",
    "print(\"Loaded testing photos.\")\n",
    "\n",
    "# LOAD TEST SKETCHES\n",
    "folder = 'test_sketches/'\n",
    "file_names = [f for f in os.listdir(folder) if os.path.isfile(os.path.join(folder, f))]\n",
    "print(\"Loading {0} sketch testing images...\".format(len(file_names)))\n",
    "train_photos = []\n",
    "for file_name in file_names:\n",
    "    image = Image.open(folder + '/' + file_name)\n",
    "    train_photos.append(numpy.array(image))\n",
    "print(\"Loaded testing sketches.\")\n",
    "    \n",
    "# Show first image in the array to confirm the images were loaded.\n",
    "Image.fromarray(train_photos[0]).show()\n",
    "\n",
    "# img = Image.open('./axe.jpg').convert('RGB')\n",
    "# img = np.array(img)\n",
    "# print(np.shape(img))"
   ]
  },
  {
   "cell_type": "code",
   "execution_count": null,
   "metadata": {},
   "outputs": [],
   "source": []
  }
 ],
 "metadata": {
  "kernelspec": {
   "display_name": "Python 3",
   "language": "python",
   "name": "python3"
  },
  "language_info": {
   "codemirror_mode": {
    "name": "ipython",
    "version": 3
   },
   "file_extension": ".py",
   "mimetype": "text/x-python",
   "name": "python",
   "nbconvert_exporter": "python",
   "pygments_lexer": "ipython3",
   "version": "3.7.3"
  }
 },
 "nbformat": 4,
 "nbformat_minor": 2
}
