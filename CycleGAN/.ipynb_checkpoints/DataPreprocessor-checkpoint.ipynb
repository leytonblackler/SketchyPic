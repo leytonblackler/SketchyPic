{
 "cells": [
  {
   "cell_type": "code",
   "execution_count": 51,
   "metadata": {},
   "outputs": [],
   "source": [
    "from PIL import Image\n",
    "from glob import glob\n",
    "import os\n",
    "from os import listdir\n",
    "from os.path import isfile, join\n",
    "import random\n",
    "import shutil"
   ]
  },
  {
   "cell_type": "code",
   "execution_count": 37,
   "metadata": {},
   "outputs": [],
   "source": [
    "photo_samples_from_each_category = 100 # max 100\n",
    "sketch_samples_from_each_category = 200"
   ]
  },
  {
   "cell_type": "code",
   "execution_count": 38,
   "metadata": {},
   "outputs": [],
   "source": [
    "root_folder = \"/local/scratch/blacklleyt/Semester 2/sketchypic/256x256\"\n",
    "photo_folder = root_folder + \"/photo/tx_000100000000\"\n",
    "sketch_folder = root_folder + \"/sketch/tx_000100000000\""
   ]
  },
  {
   "cell_type": "markdown",
   "metadata": {},
   "source": [
    "### Get the names of each of the categories in the sketchy dataset"
   ]
  },
  {
   "cell_type": "code",
   "execution_count": 39,
   "metadata": {},
   "outputs": [
    {
     "name": "stdout",
     "output_type": "stream",
     "text": [
      "category names:  ['chair', 'starfish', 'helicopter', 'cat', 'hermit_crab', 'banana', 'fish', 'hedgehog', 'airplane', 'guitar', 'frog', 'bell', 'lobster', 'seal', 'sailboat', 'duck', 'cup', 'pickup_truck', 'cabin', 'door', 'wine_bottle', 'candle', 'piano', 'camel', 'hat', 'violin', 'rocket', 'bicycle', 'pretzel', 'knife', 'raccoon', 'swan', 'pizza', 'hamburger', 'tiger', 'sheep', 'axe', 'teddy_bear', 'fan', 'ray', 'hot-air_balloon', 'racket', 'bear', 'volcano', 'tree', 'ant', 'scorpion', 'scissors', 'pineapple', 'owl', 'hammer', 'bread', 'teapot', 'table', 'alarm_clock', 'motorcycle', 'chicken', 'blimp', 'lion', 'crab', 'tank', 'jellyfish', 'strawberry', 'deer', 'rabbit', 'dog', 'squirrel', 'turtle', 'pear', 'apple', 'hotdog', 'penguin', 'armor', 'crocodilian', 'cow', 'car_(sedan)', 'ape', 'bat', 'hourglass', 'harp', 'castle', 'spider', 'pig', 'windmill', 'wheelchair', 'shoe', 'rifle', 'butterfly', 'wading_bird', 'bee', 'horse', 'sword', 'elephant', 'mushroom', 'trumpet', 'bench', 'kangaroo', 'snake', 'window', 'beetle', 'skyscraper', 'couch', 'umbrella', 'spoon', 'seagull', 'parrot', 'eyeglasses', 'geyser', 'zebra', 'jack-o-lantern', 'flower', 'giraffe', 'cannon', 'mouse', 'shark', 'church', 'songbird', 'sea_turtle', 'lizard', 'snail', 'saw', 'pistol', 'dolphin', 'saxophone', 'rhinoceros']\n"
     ]
    }
   ],
   "source": [
    "category_names = []\n",
    "for path in [f.path for f in os.scandir(photo_folder) if f.is_dir()]:\n",
    "    category_names.append(os.path.basename(path))\n",
    "print(\"category names: \", category_names)"
   ]
  },
  {
   "cell_type": "markdown",
   "metadata": {},
   "source": [
    "### Get the file paths of the photo and sketch files to load"
   ]
  },
  {
   "cell_type": "code",
   "execution_count": 50,
   "metadata": {},
   "outputs": [],
   "source": [
    "photo_file_paths = []\n",
    "sketch_file_paths = []\n",
    "for category in category_names:\n",
    "    photo_category_folder_path = photo_folder + \"/\" + category\n",
    "    sketch_category_folder_path = sketch_folder + \"/\" + category\n",
    "    all_photos = glob(photo_category_folder_path + \"/*.jpg\")\n",
    "    all_sketches = glob(sketch_category_folder_path + \"/*.png\")\n",
    "    random.Random(1).shuffle(all_photos)\n",
    "    random.Random(1).shuffle(all_sketches)\n",
    "    all_photos = all_photos[:photo_samples_from_each_category]\n",
    "    all_sketches = all_sketches[:sketch_samples_from_each_category]"
   ]
  },
  {
   "cell_type": "code",
   "execution_count": null,
   "metadata": {},
   "outputs": [],
   "source": [
    "for photo_path in photo_file_paths:\n",
    "    filename = os.path.basename(photo_path)\n",
    "    print(filename)\n",
    "#     shutil.copy('sample1.txt', '/home/varun/test') "
   ]
  }
 ],
 "metadata": {
  "kernelspec": {
   "display_name": "Python 3",
   "language": "python",
   "name": "python3"
  },
  "language_info": {
   "codemirror_mode": {
    "name": "ipython",
    "version": 3
   },
   "file_extension": ".py",
   "mimetype": "text/x-python",
   "name": "python",
   "nbconvert_exporter": "python",
   "pygments_lexer": "ipython3",
   "version": "3.7.3"
  }
 },
 "nbformat": 4,
 "nbformat_minor": 2
}
