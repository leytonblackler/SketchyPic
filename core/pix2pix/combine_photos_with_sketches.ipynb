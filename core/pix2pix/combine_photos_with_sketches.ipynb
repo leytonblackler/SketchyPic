{
 "cells": [
  {
   "cell_type": "code",
   "execution_count": 18,
   "metadata": {},
   "outputs": [],
   "source": [
    "import os\n",
    "import time\n",
    "import tensorflow as tf\n",
    "import numpy as np\n",
    "import random\n",
    "import shutil\n",
    "from matplotlib import pyplot as plt\n",
    "import IPython.display as display\n",
    "from PIL import Image"
   ]
  },
  {
   "cell_type": "code",
   "execution_count": 19,
   "metadata": {},
   "outputs": [],
   "source": [
    "PHOTO_FOLDER_PATH = \"../mushroom_database/256x256/photo/tx_000100000000/\"\n",
    "\n",
    "SKETCH_FOLDER_PATH = \"../mushroom_database/256x256/sketch/tx_000100000000/\"\n",
    "\n",
    "OUTPUT_FOLDER_PATH = \"../mushroom_database_photo_pairs/\"\n",
    "\n",
    "# The percentage of all photo-sketch image pairs allocated to training (remainder is used for testing).\n",
    "TRAIN_TEST_SPLIT = 0.95"
   ]
  },
  {
   "cell_type": "code",
   "execution_count": 20,
   "metadata": {},
   "outputs": [],
   "source": [
    "def get_category_names():\n",
    "    directories = [x[1] for x in os.walk(PHOTO_FOLDER_PATH)]\n",
    "    non_empty_dirs = [x for x in directories if x]\n",
    "    return [item for subitem in non_empty_dirs for item in subitem]"
   ]
  },
  {
   "cell_type": "code",
   "execution_count": 21,
   "metadata": {},
   "outputs": [],
   "source": [
    "def load_images(photo_file_path, sketch_file_path):\n",
    "    \n",
    "    photo = Image.open(photo_file_path)\n",
    "    photo = np.array(photo)\n",
    "    \n",
    "    sketch = Image.open(sketch_file_path)\n",
    "    sketch = np.array(sketch)\n",
    "    \n",
    "#     photo = tf.io.read_file(photo_file_path)\n",
    "    \n",
    "#     print(\"raw\")\n",
    "#     print(photo)\n",
    "\n",
    "#     photo = tf.image.decode_jpeg(photo, channels=3)\n",
    "    \n",
    "#     print(\"decoded\")\n",
    "#     print(photo)\n",
    "    \n",
    "#     sketch = tf.io.read_file(sketch_file_path)\n",
    "#     sketch = tf.image.decode_png(sketch, channels=3)\n",
    "    \n",
    "    return photo, sketch"
   ]
  },
  {
   "cell_type": "code",
   "execution_count": 22,
   "metadata": {},
   "outputs": [],
   "source": [
    "def combine_images(photo, sketch):\n",
    "    # remove alpha channel\n",
    "    if photo.shape[2] == 4:\n",
    "        photo = photo[:,:,:3]\n",
    "    \n",
    "    if sketch.shape[2] == 4:\n",
    "        sketch = sketch[:,:,:3]\n",
    "\n",
    "    return np.concatenate([photo, sketch], axis=1)"
   ]
  },
  {
   "cell_type": "code",
   "execution_count": 23,
   "metadata": {},
   "outputs": [],
   "source": [
    "def save_combined_image(image, name):\n",
    "    if not os.path.exists(OUTPUT_FOLDER_PATH):\n",
    "        os.mkdir(OUTPUT_FOLDER_PATH)\n",
    "        \n",
    "    image = Image.fromarray(image)\n",
    "    image.save(OUTPUT_FOLDER_PATH + name + \".jpg\", \"JPEG\")"
   ]
  },
  {
   "cell_type": "code",
   "execution_count": 26,
   "metadata": {},
   "outputs": [
    {
     "name": "stdout",
     "output_type": "stream",
     "text": [
      "category names: ['mushroom']\n",
      "[1/1] Combining mushroom photos with their sketch pairs...\n",
      "Time taken to combine all images: 0.008028177420298259 seconds.\n"
     ]
    }
   ],
   "source": [
    "category_count = 1\n",
    "combined_image_count = 1\n",
    "start_time = time.time()\n",
    "\n",
    "category_names = get_category_names()\n",
    "\n",
    "print('category names: ' + str(category_names))\n",
    "\n",
    "# Iterate across each of the category names (e.g. airplane, alarm_clock, ant, etc.)\n",
    "for category_name in category_names:\n",
    "    \n",
    "    print(\"[\" + str(category_count) + \"/\" + str(len(category_names)) + \"] Combining \" + category_name + \" photos with their sketch pairs...\")\n",
    "    category_count += 1\n",
    "    \n",
    "    # Create a list containing all the file names of photos from the current category.\n",
    "    photo_file_names = os.listdir(PHOTO_FOLDER_PATH + category_name)\n",
    "\n",
    "    # Create a list containing all the file names of sketches from the current category.\n",
    "    sketch_file_names = os.listdir(SKETCH_FOLDER_PATH + category_name)\n",
    "\n",
    "    # Iterate across each of the photo files.\n",
    "    for photo_file_name in photo_file_names:\n",
    "        \n",
    "        \n",
    "        \n",
    "        \n",
    "        \n",
    "        \n",
    "        \n",
    "\n",
    "        # Define the function that will be used to determine if a sketch file is a pair to the current photo file.\n",
    "#         def filterFunction(sketch_file_name):\n",
    "            \n",
    "            # Remove file extension from the photo file name.\n",
    "#             photo_file_name_without_extension = photo_file_name[:-4]\n",
    "            \n",
    "            # Remove the file extension and pair number from the end of the sketch file name.\n",
    "#             sketch_file_name_without_pair_number = sketch_file_name[:-4].rpartition('-')[0]\n",
    "            \n",
    "            # Check whether the photo and sketch are pairs based on the absolute name of the files.\n",
    "#             if sketch_file_name_without_pair_number == photo_file_name_without_extension:\n",
    "#                 return True\n",
    "#             else:\n",
    "#                 return False\n",
    "\n",
    "        # Use the filter function to create a new list containing the file names of sketches that are a pair to the current photo file.\n",
    "#         sketch_pair_file_names = list(filter(filterFunction, sketch_file_names))\n",
    "\n",
    "        photo_file_name_without_extension = photo_file_name[:-4]\n",
    "        sketch_pair_file_names = [photo_file_name_without_extension + '-1.png']\n",
    "        \n",
    "        \n",
    "        \n",
    "        \n",
    "        \n",
    "        \n",
    "        \n",
    "\n",
    "        for sketch_file_name in sketch_pair_file_names:\n",
    "            \n",
    "            # Form the complete file paths of the photo and sketch images.\n",
    "            photo_file_path = PHOTO_FOLDER_PATH + category_name + \"/\" + photo_file_name\n",
    "            sketch_file_path = SKETCH_FOLDER_PATH + category_name + \"/\" + sketch_file_name\n",
    "            \n",
    "            # Load both photo and sketch images using their file paths.\n",
    "            photo, sketch = load_images(photo_file_path, sketch_file_path)\n",
    "            \n",
    "#             print(\"photo\")\n",
    "#             print(photo_file_path)\n",
    "#             display.display(display.Image(photo_file_path))\n",
    "#             print(\"sketch\")\n",
    "#             print(sketch_file_path)\n",
    "#             display.display(display.Image(sketch_file_path))\n",
    "            \n",
    "            # Create a combined image where the photo and sketch images are side by side.\n",
    "            combined_image = combine_images(photo, sketch)\n",
    "            \n",
    "            # Remove file extension from the sketch file name.\n",
    "            sketch_file_name_without_extension = sketch_file_name[:-4]\n",
    "            \n",
    "            # Save the combined image to the specified output folder using the original name of the sketch image file.\n",
    "            save_combined_image(combined_image, category_name + \"-\" + sketch_file_name_without_extension)\n",
    "            \n",
    "            combined_image_count += 1\n",
    "            \n",
    "print(\"Time taken to combine all images: \" + str((time.time() - start_time) / 60) + \" seconds.\")            "
   ]
  },
  {
   "cell_type": "markdown",
   "metadata": {},
   "source": [
    "### Split data into training and test sub folders"
   ]
  },
  {
   "cell_type": "code",
   "execution_count": 25,
   "metadata": {},
   "outputs": [
    {
     "name": "stdout",
     "output_type": "stream",
     "text": [
      "Splitting a total of 102 images into 97 training images and 5 test images.\n"
     ]
    },
    {
     "ename": "Error",
     "evalue": "Cannot move a directory '../mushroom_database_photo_pairs/train' into itself '../mushroom_database_photo_pairs/train/train'.",
     "output_type": "error",
     "traceback": [
      "\u001b[0;31m---------------------------------------------------------------------------\u001b[0m",
      "\u001b[0;31mOSError\u001b[0m                                   Traceback (most recent call last)",
      "\u001b[0;32m/usr/pkg/lib/python3.7/shutil.py\u001b[0m in \u001b[0;36mmove\u001b[0;34m(src, dst, copy_function)\u001b[0m\n\u001b[1;32m    562\u001b[0m     \u001b[0;32mtry\u001b[0m\u001b[0;34m:\u001b[0m\u001b[0;34m\u001b[0m\u001b[0;34m\u001b[0m\u001b[0m\n\u001b[0;32m--> 563\u001b[0;31m         \u001b[0mos\u001b[0m\u001b[0;34m.\u001b[0m\u001b[0mrename\u001b[0m\u001b[0;34m(\u001b[0m\u001b[0msrc\u001b[0m\u001b[0;34m,\u001b[0m \u001b[0mreal_dst\u001b[0m\u001b[0;34m)\u001b[0m\u001b[0;34m\u001b[0m\u001b[0;34m\u001b[0m\u001b[0m\n\u001b[0m\u001b[1;32m    564\u001b[0m     \u001b[0;32mexcept\u001b[0m \u001b[0mOSError\u001b[0m\u001b[0;34m:\u001b[0m\u001b[0;34m\u001b[0m\u001b[0;34m\u001b[0m\u001b[0m\n",
      "\u001b[0;31mOSError\u001b[0m: [Errno 22] Invalid argument: '../mushroom_database_photo_pairs/train' -> '../mushroom_database_photo_pairs/train/train'",
      "\nDuring handling of the above exception, another exception occurred:\n",
      "\u001b[0;31mError\u001b[0m                                     Traceback (most recent call last)",
      "\u001b[0;32m<ipython-input-25-0f46c2a15215>\u001b[0m in \u001b[0;36m<module>\u001b[0;34m\u001b[0m\n\u001b[1;32m     17\u001b[0m \u001b[0;34m\u001b[0m\u001b[0m\n\u001b[1;32m     18\u001b[0m \u001b[0;32mfor\u001b[0m \u001b[0mtrain_file_name\u001b[0m \u001b[0;32min\u001b[0m \u001b[0mtrain_file_names\u001b[0m\u001b[0;34m:\u001b[0m\u001b[0;34m\u001b[0m\u001b[0;34m\u001b[0m\u001b[0m\n\u001b[0;32m---> 19\u001b[0;31m     \u001b[0mshutil\u001b[0m\u001b[0;34m.\u001b[0m\u001b[0mmove\u001b[0m\u001b[0;34m(\u001b[0m\u001b[0mOUTPUT_FOLDER_PATH\u001b[0m \u001b[0;34m+\u001b[0m \u001b[0mtrain_file_name\u001b[0m\u001b[0;34m,\u001b[0m \u001b[0mOUTPUT_FOLDER_PATH\u001b[0m \u001b[0;34m+\u001b[0m \u001b[0;34m'train/'\u001b[0m \u001b[0;34m+\u001b[0m \u001b[0mtrain_file_name\u001b[0m\u001b[0;34m)\u001b[0m\u001b[0;34m\u001b[0m\u001b[0;34m\u001b[0m\u001b[0m\n\u001b[0m\u001b[1;32m     20\u001b[0m \u001b[0;34m\u001b[0m\u001b[0m\n\u001b[1;32m     21\u001b[0m \u001b[0;32mfor\u001b[0m \u001b[0mtest_file_name\u001b[0m \u001b[0;32min\u001b[0m \u001b[0mtest_file_names\u001b[0m\u001b[0;34m:\u001b[0m\u001b[0;34m\u001b[0m\u001b[0;34m\u001b[0m\u001b[0m\n",
      "\u001b[0;32m/usr/pkg/lib/python3.7/shutil.py\u001b[0m in \u001b[0;36mmove\u001b[0;34m(src, dst, copy_function)\u001b[0m\n\u001b[1;32m    570\u001b[0m             \u001b[0;32mif\u001b[0m \u001b[0m_destinsrc\u001b[0m\u001b[0;34m(\u001b[0m\u001b[0msrc\u001b[0m\u001b[0;34m,\u001b[0m \u001b[0mdst\u001b[0m\u001b[0;34m)\u001b[0m\u001b[0;34m:\u001b[0m\u001b[0;34m\u001b[0m\u001b[0;34m\u001b[0m\u001b[0m\n\u001b[1;32m    571\u001b[0m                 raise Error(\"Cannot move a directory '%s' into itself\"\n\u001b[0;32m--> 572\u001b[0;31m                             \" '%s'.\" % (src, dst))\n\u001b[0m\u001b[1;32m    573\u001b[0m             copytree(src, real_dst, copy_function=copy_function,\n\u001b[1;32m    574\u001b[0m                      symlinks=True)\n",
      "\u001b[0;31mError\u001b[0m: Cannot move a directory '../mushroom_database_photo_pairs/train' into itself '../mushroom_database_photo_pairs/train/train'."
     ]
    }
   ],
   "source": [
    "combined_image_file_names = os.listdir(OUTPUT_FOLDER_PATH)\n",
    "random.shuffle(combined_image_file_names)\n",
    "total_images = len(combined_image_file_names)\n",
    "\n",
    "number_of_training_images = round(TRAIN_TEST_SPLIT * total_images)\n",
    "number_of_test_images = total_images - number_of_training_images\n",
    "print(\"Splitting a total of \" + str(total_images) + \" images into \" + str(number_of_training_images) + \" training images and \" + str(number_of_test_images) + \" test images.\")\n",
    "\n",
    "train_file_names = combined_image_file_names[:number_of_training_images]\n",
    "test_file_names = combined_image_file_names[number_of_training_images:]\n",
    "\n",
    "if not os.path.exists(OUTPUT_FOLDER_PATH + 'train/'):\n",
    "        os.mkdir(OUTPUT_FOLDER_PATH + 'train/')\n",
    "        \n",
    "if not os.path.exists(OUTPUT_FOLDER_PATH + 'test/'):\n",
    "        os.mkdir(OUTPUT_FOLDER_PATH + 'test/')\n",
    "\n",
    "for train_file_name in train_file_names:\n",
    "    shutil.move(OUTPUT_FOLDER_PATH + train_file_name, OUTPUT_FOLDER_PATH + 'train/' + train_file_name)\n",
    "    \n",
    "for test_file_name in test_file_names:\n",
    "    shutil.move(OUTPUT_FOLDER_PATH + test_file_name, OUTPUT_FOLDER_PATH + 'test/' + test_file_name)"
   ]
  },
  {
   "cell_type": "code",
   "execution_count": null,
   "metadata": {},
   "outputs": [],
   "source": []
  },
  {
   "cell_type": "code",
   "execution_count": null,
   "metadata": {},
   "outputs": [],
   "source": []
  },
  {
   "cell_type": "code",
   "execution_count": null,
   "metadata": {},
   "outputs": [],
   "source": []
  }
 ],
 "metadata": {
  "kernelspec": {
   "display_name": "Python 3",
   "language": "python",
   "name": "python3"
  },
  "language_info": {
   "codemirror_mode": {
    "name": "ipython",
    "version": 3
   },
   "file_extension": ".py",
   "mimetype": "text/x-python",
   "name": "python",
   "nbconvert_exporter": "python",
   "pygments_lexer": "ipython3",
   "version": "3.7.3"
  }
 },
 "nbformat": 4,
 "nbformat_minor": 2
}
