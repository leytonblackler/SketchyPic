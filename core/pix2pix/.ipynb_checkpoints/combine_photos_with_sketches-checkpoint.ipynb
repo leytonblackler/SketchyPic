{
 "cells": [
  {
   "cell_type": "code",
   "execution_count": 1,
   "metadata": {},
   "outputs": [],
   "source": [
    "import os\n",
    "import time\n",
    "import tensorflow as tf\n",
    "import numpy as np\n",
    "from PIL import Image"
   ]
  },
  {
   "cell_type": "code",
   "execution_count": 2,
   "metadata": {},
   "outputs": [],
   "source": [
    "PHOTO_FOLDER_PATH = \"../sketchy_database/256x256/photo/tx_000100000000/\"\n",
    "\n",
    "SKETCH_FOLDER_PATH = \"../sketchy_database/256x256/sketch/tx_000100000000/\"\n",
    "\n",
    "OUTPUT_FOLDER_PATH = \"../sketchy_database_photo_pairs/\"\n",
    "\n",
    "# The percentage of all photo-sketch image pairs allocated to training (remainder is used for testing).\n",
    "TRAINING_TEST_SPLIT = 0.9"
   ]
  },
  {
   "cell_type": "code",
   "execution_count": 3,
   "metadata": {},
   "outputs": [],
   "source": [
    "def get_category_names():\n",
    "    directories = [x[1] for x in os.walk(PHOTO_FOLDER_PATH)]\n",
    "    non_empty_dirs = [x for x in directories if x]\n",
    "    return [item for subitem in non_empty_dirs for item in subitem]"
   ]
  },
  {
   "cell_type": "code",
   "execution_count": 4,
   "metadata": {},
   "outputs": [],
   "source": [
    "def load_images(photo_file_path, sketch_file_path):\n",
    "    photo = tf.io.read_file(photo_file_path)\n",
    "    photo = tf.image.decode_jpeg(photo)\n",
    "    \n",
    "    sketch = tf.io.read_file(sketch_file_path)\n",
    "    sketch = tf.image.decode_png(sketch)\n",
    "    \n",
    "    return photo, sketch"
   ]
  },
  {
   "cell_type": "code",
   "execution_count": 5,
   "metadata": {},
   "outputs": [],
   "source": [
    "def combine_images(photo, sketch):\n",
    "    # remove alpha channel\n",
    "    if photo.shape[2] == 4:\n",
    "        photo = photo[:,:,:3]\n",
    "    \n",
    "    if sketch.shape[2] == 4:\n",
    "        sketch = sketch[:,:,:3]\n",
    "\n",
    "    return np.concatenate([photo, sketch], axis=1)"
   ]
  },
  {
   "cell_type": "code",
   "execution_count": 6,
   "metadata": {},
   "outputs": [],
   "source": [
    "def save_combined_image(image, name):\n",
    "    if not os.path.exists(OUTPUT_FOLDER_PATH):\n",
    "        os.mkdir(OUTPUT_FOLDER_PATH)\n",
    "        \n",
    "    image = Image.fromarray(image)\n",
    "    image.save(OUTPUT_FOLDER_PATH + name + \".jpg\", \"JPEG\")"
   ]
  },
  {
   "cell_type": "code",
   "execution_count": 8,
   "metadata": {},
   "outputs": [
    {
     "ename": "SyntaxError",
     "evalue": "invalid syntax (<ipython-input-8-9b976cd33af8>, line 60)",
     "output_type": "error",
     "traceback": [
      "\u001b[0;36m  File \u001b[0;32m\"<ipython-input-8-9b976cd33af8>\"\u001b[0;36m, line \u001b[0;32m60\u001b[0m\n\u001b[0;31m    print(\"Time taken to combine all images: \" + str((time.time() - start_time) / 60) + )\u001b[0m\n\u001b[0m                                                                                        ^\u001b[0m\n\u001b[0;31mSyntaxError\u001b[0m\u001b[0;31m:\u001b[0m invalid syntax\n"
     ]
    }
   ],
   "source": [
    "category_count = 1\n",
    "combined_image_count = 1\n",
    "start_time = time.time()\n",
    "\n",
    "category_names = get_category_names()\n",
    "\n",
    "# Iterate across each of the category names (e.g. airplane, alarm_clock, ant, etc.)\n",
    "for category_name in category_names:\n",
    "    \n",
    "    print(\"[\" + str(category_count) + \"/\" + str(len(category_names)) + \"] Combining \" + category_name + \" photos with their sketch pairs...\")\n",
    "    category_count += 1\n",
    "    \n",
    "    # Create a list containing all the file names of photos from the current category.\n",
    "    photo_file_names = os.listdir(PHOTO_FOLDER_PATH + category_name)\n",
    "\n",
    "    # Create a list containing all the file names of sketches from the current category.\n",
    "    sketch_file_names = os.listdir(SKETCH_FOLDER_PATH + category_name)\n",
    "\n",
    "    # Iterate across each of the photo files.\n",
    "    for photo_file_name in photo_file_names:\n",
    "\n",
    "        # Define the function that will be used to determine if a sketch file is a pair to the current photo file.\n",
    "        def filterFunction(sketch_file_name):\n",
    "            \n",
    "            # Remove file extension from the photo file name.\n",
    "            photo_file_name_without_extension = photo_file_name[:-4]\n",
    "            \n",
    "            # Remove the file extension and pair number from the end of the sketch file name.\n",
    "            sketch_file_name_without_pair_number = sketch_file_name[:-4].rpartition('-')[0]\n",
    "            \n",
    "            # Check whether the photo and sketch are pairs based on the absolute name of the files.\n",
    "            if sketch_file_name_without_pair_number == photo_file_name_without_extension:\n",
    "                return True\n",
    "            else:\n",
    "                return False\n",
    "\n",
    "        # Use the filter function to create a new list containing the file names of sketches that are a pair to the current photo file.\n",
    "        sketch_pair_file_names = list(filter(filterFunction, sketch_file_names))\n",
    "\n",
    "        for sketch_file_name in sketch_pair_file_names:\n",
    "            \n",
    "            # Form the complete file paths of the photo and sketch images.\n",
    "            photo_file_path = PHOTO_FOLDER_PATH + category_name + \"/\" + photo_file_name\n",
    "            sketch_file_path = SKETCH_FOLDER_PATH + category_name + \"/\" + sketch_file_name\n",
    "            \n",
    "            # Load both photo and sketch images using their file paths.\n",
    "            photo, sketch = load_images(photo_file_path, sketch_file_path)\n",
    "            \n",
    "            # Create a combined image where the photo and sketch images are side by side.\n",
    "            combined_image = combine_images(photo, sketch)\n",
    "            \n",
    "            # Remove file extension from the sketch file name.\n",
    "            sketch_file_name_without_extension = sketch_file_name[:-4]\n",
    "            \n",
    "            # Save the combined image to the specified output folder using the original name of the sketch image file.\n",
    "            save_combined_image(combined_image, category_name + \"-\" + sketch_file_name_without_extension)\n",
    "            \n",
    "            combined_image_count += 1\n",
    "            \n",
    "print(\"Time taken to combine all images: \" + str((time.time() - start_time) / 60) + \" seconds.\")            "
   ]
  },
  {
   "cell_type": "code",
   "execution_count": null,
   "metadata": {},
   "outputs": [],
   "source": []
  }
 ],
 "metadata": {
  "kernelspec": {
   "display_name": "Python 3",
   "language": "python",
   "name": "python3"
  },
  "language_info": {
   "codemirror_mode": {
    "name": "ipython",
    "version": 3
   },
   "file_extension": ".py",
   "mimetype": "text/x-python",
   "name": "python",
   "nbconvert_exporter": "python",
   "pygments_lexer": "ipython3",
   "version": "3.6.7"
  }
 },
 "nbformat": 4,
 "nbformat_minor": 2
}
