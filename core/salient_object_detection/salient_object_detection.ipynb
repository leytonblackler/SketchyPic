{
 "cells": [
  {
   "cell_type": "code",
   "execution_count": 1,
   "metadata": {},
   "outputs": [],
   "source": [
    "import cv2\n",
    "import glob\n",
    "import tensorflow as tf\n",
    "import numpy as np\n",
    "import os\n",
    "from scipy import misc\n",
    "import argparse\n",
    "import sys\n",
    "# Will use matplotlib for showing the image\n",
    "#from matplotlib import pyplot as plt"
   ]
  },
  {
   "cell_type": "code",
   "execution_count": 2,
   "metadata": {},
   "outputs": [],
   "source": [
    "g_mean = np.array(([126.88,120.24,112.19])).reshape([1,1,3])\n",
    "output_folder = \"./test_output\""
   ]
  },
  {
   "cell_type": "code",
   "execution_count": 3,
   "metadata": {},
   "outputs": [],
   "source": [
    "def rgba2rgb(img):\n",
    "    return img[:,:,:3]*np.expand_dims(img[:,:,3],2)"
   ]
  },
  {
   "cell_type": "code",
   "execution_count": 4,
   "metadata": {},
   "outputs": [],
   "source": [
    "def enhance_images():\n",
    "    \n",
    "    print(\"Enhancing images...\")\n",
    "    \n",
    "    if not os.path.exists('./enhanced'):\n",
    "        os.mkdir('./enhanced')\n",
    "    \n",
    "    input_image_filenames = glob.glob(\"../sketchy_database/256x256/photo/tx_000100000000/zebra/*.jpg\")\n",
    "    for filename in input_image_filenames:\n",
    "        \n",
    "        image = cv2.imread(filename, cv2.IMREAD_COLOR)\n",
    "    \n",
    "        image_yuv = cv2.cvtColor(image, cv2.COLOR_BGR2YUV)\n",
    "        # equalize the histogram of the Y channel\n",
    "        image_yuv[:,:,0] = cv2.equalizeHist(image_yuv[:,:,0])\n",
    "        output_image = cv2.cvtColor(image_yuv, cv2.COLOR_YUV2BGR)\n",
    "        \n",
    "        input_rgb = cv2.cvtColor(image, cv2.COLOR_BGR2RGB)\n",
    "        output_rgb = cv2.cvtColor(image_yuv, cv2.COLOR_YUV2RGB)\n",
    "        #plt.imshow(np.hstack((input_rgb,output_rgb)))\n",
    "        \n",
    "        \n",
    "        filename_without_path = filename[56:]\n",
    "        \n",
    "        cv2.imwrite('./enhanced/' + filename_without_path, output_image)"
   ]
  },
  {
   "cell_type": "code",
   "execution_count": 5,
   "metadata": {},
   "outputs": [],
   "source": [
    "def generate_salience_maps():\n",
    "    \n",
    "    print(\"Generating salience maps...\")\n",
    "    \n",
    "    rgb_folder = \"./enhanced\"\n",
    "    gpu_fraction = 1.0\n",
    "    \n",
    "    if not os.path.exists('./salience_maps'):\n",
    "        os.mkdir('./salience_maps')\n",
    "    \n",
    "    gpu_options = tf.GPUOptions(per_process_gpu_memory_fraction = gpu_fraction)\n",
    "    with tf.Session(config=tf.ConfigProto(gpu_options = gpu_options)) as sess:\n",
    "        saver = tf.train.import_meta_graph('./meta_graph/my-model.meta')\n",
    "        saver.restore(sess,tf.train.latest_checkpoint('./salience_model'))\n",
    "        image_batch = tf.get_collection('image_batch')[0]\n",
    "        pred_mattes = tf.get_collection('mask')[0]\n",
    "\n",
    "        \n",
    "        rgb_pths = os.listdir(rgb_folder)\n",
    "        for rgb_pth in rgb_pths:\n",
    "            rgb = misc.imread(os.path.join(rgb_folder,rgb_pth))\n",
    "            if rgb.shape[2]==4:\n",
    "                rgb = rgba2rgb(rgb)\n",
    "            origin_shape = rgb.shape\n",
    "            rgb = np.expand_dims(misc.imresize(rgb.astype(np.uint8),[320,320,3],interp=\"nearest\").astype(np.float32)-g_mean,0)\n",
    "\n",
    "            feed_dict = {image_batch:rgb}\n",
    "            pred_alpha = sess.run(pred_mattes,feed_dict = feed_dict)\n",
    "            final_alpha = misc.imresize(np.squeeze(pred_alpha),origin_shape)\n",
    "            misc.imsave(os.path.join('./salience_maps',rgb_pth),final_alpha)\n"
   ]
  },
  {
   "cell_type": "code",
   "execution_count": 6,
   "metadata": {},
   "outputs": [],
   "source": [
    "def convert_salience_maps_to_binary_masks():\n",
    "    \n",
    "    print(\"Converting salience maps to binary masks...\")\n",
    "    \n",
    "    if not os.path.exists('./binary_masks'):\n",
    "        os.mkdir('./binary_masks')\n",
    "    \n",
    "    input_image_filenames = glob.glob(\"./salience_maps/*.jpg\")\n",
    "    for filename in input_image_filenames:\n",
    "        \n",
    "        image = cv2.imread(filename, cv2.IMREAD_GRAYSCALE)\n",
    "    \n",
    "        (thresh, im_bw) = cv2.threshold(image, 128, 255, cv2.THRESH_BINARY | cv2.THRESH_OTSU)\n",
    "        \n",
    "        before = cv2.cvtColor(image,cv2.COLOR_GRAY2RGB)\n",
    "        after = cv2.cvtColor(im_bw,cv2.COLOR_GRAY2RGB)\n",
    "        #plt.imshow(np.hstack((before,after)))\n",
    "        \n",
    "        filename_without_path = filename[16:]\n",
    "        print(filename_without_path)\n",
    "        \n",
    "        cv2.imwrite('./binary_masks/' + filename_without_path, im_bw)"
   ]
  },
  {
   "cell_type": "code",
   "execution_count": 7,
   "metadata": {},
   "outputs": [],
   "source": [
    "def apply_binary_masks_to_original_images():\n",
    "    \n",
    "    print(\"Apply binary masks to original images...\")\n",
    "    \n",
    "    if not os.path.exists('./extracted'):\n",
    "        os.mkdir('./extracted')\n",
    "    \n",
    "    mask_filenames = glob.glob(\"./binary_masks/*.jpg\")\n",
    "    for filename in mask_filenames:\n",
    "        \n",
    "        mask = cv2.imread(filename, cv2.IMREAD_COLOR)\n",
    "        filename_without_path = filename[15:]\n",
    "        original = cv2.imread('../sketchy_database/256x256/photo/tx_000100000000/zebra/' + filename_without_path, cv2.IMREAD_COLOR)\n",
    "        \n",
    "        extracted = cv2.bitwise_and(original, mask)\n",
    "        \n",
    "        #inverted_mask = cv2.bitwise_not(mask)\n",
    "        \n",
    "        original_rgb = cv2.cvtColor(original, cv2.COLOR_BGR2RGB)\n",
    "        original_and_mask = np.hstack((original_rgb, mask))\n",
    "        extracted_rgb = cv2.cvtColor(extracted, cv2.COLOR_BGR2RGB)\n",
    "        original_and_mask_and_extracted = np.hstack((original_and_mask, extracted_rgb))\n",
    "        #plt.imshow(original_and_mask_and_extracted)\n",
    "        \n",
    "        cv2.imwrite('./extracted/' + filename_without_path, extracted)"
   ]
  },
  {
   "cell_type": "code",
   "execution_count": 8,
   "metadata": {},
   "outputs": [
    {
     "name": "stdout",
     "output_type": "stream",
     "text": [
      "Enhancing images...\n",
      "Generating salience maps...\n"
     ]
    },
    {
     "ename": "AttributeError",
     "evalue": "module 'tensorflow' has no attribute 'GPUOptions'",
     "output_type": "error",
     "traceback": [
      "\u001b[0;31m---------------------------------------------------------------------------\u001b[0m",
      "\u001b[0;31mAttributeError\u001b[0m                            Traceback (most recent call last)",
      "\u001b[0;32m<ipython-input-8-d3b7c795e797>\u001b[0m in \u001b[0;36m<module>\u001b[0;34m()\u001b[0m\n\u001b[1;32m      1\u001b[0m \u001b[0menhance_images\u001b[0m\u001b[0;34m(\u001b[0m\u001b[0;34m)\u001b[0m\u001b[0;34m\u001b[0m\u001b[0m\n\u001b[0;32m----> 2\u001b[0;31m \u001b[0mgenerate_salience_maps\u001b[0m\u001b[0;34m(\u001b[0m\u001b[0;34m)\u001b[0m\u001b[0;34m\u001b[0m\u001b[0m\n\u001b[0m\u001b[1;32m      3\u001b[0m \u001b[0mconvert_salience_maps_to_binary_masks\u001b[0m\u001b[0;34m(\u001b[0m\u001b[0;34m)\u001b[0m\u001b[0;34m\u001b[0m\u001b[0m\n\u001b[1;32m      4\u001b[0m \u001b[0mapply_binary_masks_to_original_images\u001b[0m\u001b[0;34m(\u001b[0m\u001b[0;34m)\u001b[0m\u001b[0;34m\u001b[0m\u001b[0m\n",
      "\u001b[0;32m<ipython-input-5-e0a7566c4760>\u001b[0m in \u001b[0;36mgenerate_salience_maps\u001b[0;34m()\u001b[0m\n\u001b[1;32m      9\u001b[0m         \u001b[0mos\u001b[0m\u001b[0;34m.\u001b[0m\u001b[0mmkdir\u001b[0m\u001b[0;34m(\u001b[0m\u001b[0;34m'./salience_maps'\u001b[0m\u001b[0;34m)\u001b[0m\u001b[0;34m\u001b[0m\u001b[0m\n\u001b[1;32m     10\u001b[0m \u001b[0;34m\u001b[0m\u001b[0m\n\u001b[0;32m---> 11\u001b[0;31m     \u001b[0mgpu_options\u001b[0m \u001b[0;34m=\u001b[0m \u001b[0mtf\u001b[0m\u001b[0;34m.\u001b[0m\u001b[0mGPUOptions\u001b[0m\u001b[0;34m(\u001b[0m\u001b[0mper_process_gpu_memory_fraction\u001b[0m \u001b[0;34m=\u001b[0m \u001b[0mgpu_fraction\u001b[0m\u001b[0;34m)\u001b[0m\u001b[0;34m\u001b[0m\u001b[0m\n\u001b[0m\u001b[1;32m     12\u001b[0m     \u001b[0;32mwith\u001b[0m \u001b[0mtf\u001b[0m\u001b[0;34m.\u001b[0m\u001b[0mSession\u001b[0m\u001b[0;34m(\u001b[0m\u001b[0mconfig\u001b[0m\u001b[0;34m=\u001b[0m\u001b[0mtf\u001b[0m\u001b[0;34m.\u001b[0m\u001b[0mConfigProto\u001b[0m\u001b[0;34m(\u001b[0m\u001b[0mgpu_options\u001b[0m \u001b[0;34m=\u001b[0m \u001b[0mgpu_options\u001b[0m\u001b[0;34m)\u001b[0m\u001b[0;34m)\u001b[0m \u001b[0;32mas\u001b[0m \u001b[0msess\u001b[0m\u001b[0;34m:\u001b[0m\u001b[0;34m\u001b[0m\u001b[0m\n\u001b[1;32m     13\u001b[0m         \u001b[0msaver\u001b[0m \u001b[0;34m=\u001b[0m \u001b[0mtf\u001b[0m\u001b[0;34m.\u001b[0m\u001b[0mtrain\u001b[0m\u001b[0;34m.\u001b[0m\u001b[0mimport_meta_graph\u001b[0m\u001b[0;34m(\u001b[0m\u001b[0;34m'./meta_graph/my-model.meta'\u001b[0m\u001b[0;34m)\u001b[0m\u001b[0;34m\u001b[0m\u001b[0m\n",
      "\u001b[0;31mAttributeError\u001b[0m: module 'tensorflow' has no attribute 'GPUOptions'"
     ]
    }
   ],
   "source": [
    "enhance_images()\n",
    "generate_salience_maps()\n",
    "convert_salience_maps_to_binary_masks()\n",
    "apply_binary_masks_to_original_images()"
   ]
  },
  {
   "cell_type": "code",
   "execution_count": null,
   "metadata": {},
   "outputs": [],
   "source": []
  }
 ],
 "metadata": {
  "kernelspec": {
   "display_name": "Python 3",
   "language": "python",
   "name": "python3"
  },
  "language_info": {
   "codemirror_mode": {
    "name": "ipython",
    "version": 3
   },
   "file_extension": ".py",
   "mimetype": "text/x-python",
   "name": "python",
   "nbconvert_exporter": "python",
   "pygments_lexer": "ipython3",
   "version": "3.5.6"
  }
 },
 "nbformat": 4,
 "nbformat_minor": 2
}
